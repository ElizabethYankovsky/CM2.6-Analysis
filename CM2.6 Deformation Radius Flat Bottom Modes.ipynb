{
 "cells": [
  {
   "cell_type": "code",
   "execution_count": 1,
   "metadata": {},
   "outputs": [
    {
     "name": "stdout",
     "output_type": "stream",
     "text": [
      "Once deleted, variables cannot be recovered. Proceed (y/[n])? y\n"
     ]
    }
   ],
   "source": [
    "%reset\n",
    "%matplotlib inline\n",
    "import numpy as np\n",
    "import matplotlib.pyplot as plt\n",
    "import xarray as xr\n",
    "import netCDF4 as nc\n",
    "import matplotlib.ticker as mticker\n",
    "import warnings; warnings.filterwarnings('ignore')\n",
    "import cmocean\n",
    "from gsw import rho\n",
    "from scipy.sparse import coo_matrix\n",
    "from scipy.sparse.linalg import eigs\n",
    "from scipy.integrate import cumtrapz"
   ]
  },
  {
   "cell_type": "code",
   "execution_count": 2,
   "metadata": {},
   "outputs": [
    {
     "name": "stdout",
     "output_type": "stream",
     "text": [
      "/net2/smg/documents/OMDT/analysis_CM2p6/grids\n"
     ]
    }
   ],
   "source": [
    "%cd /net2/smg/documents/OMDT/analysis_CM2p6/grids\n",
    "os = xr.open_dataset('ocean.static.nc')\n",
    "fs=xr.open_dataset('ocean_grid.nc')\n",
    "depth=fs['ht'][:,:]\n",
    "\n",
    "lon=fs['geolon_t']; lat=fs['geolat_t']\n",
    "# Coriolis is 2Omega sin(phi) where phi is the latitude of the B-grid velocity point, which should be available in hgrid\n",
    "Coriolis = 2*7.29e-5*np.sin(fs['geolat_t']/360 *2*np.pi);\n",
    "#dx = fs['dxt']; dy = fs['dyt']; dxy= (dx**2+dy**2)**0.5\n",
    "#print(os,fs)"
   ]
  },
  {
   "cell_type": "markdown",
   "metadata": {},
   "source": [
    "### For CM2.6 data:"
   ]
  },
  {
   "cell_type": "code",
   "execution_count": 3,
   "metadata": {},
   "outputs": [
    {
     "name": "stdout",
     "output_type": "stream",
     "text": [
      "/arch2/rds/CM2.6/CM2.6_A_Control-1860_V03/history\n",
      "<xarray.DataArray 'st_edges_ocean' (st_ocean: 50)>\n",
      "array([ 10.06709957,  10.09290028,  10.12890053,  10.17849922,\n",
      "        10.24740219,  10.34269714,  10.47480392,  10.6576004 ,\n",
      "        10.9101944 ,  11.25960541,  11.74169922,  12.40619659,\n",
      "        13.32000732,  14.57260132,  16.28289795,  18.604599  ,\n",
      "        21.73239136,  25.90260315,  31.3868103 ,  38.4697876 ,\n",
      "        47.40710449,  58.35928345,  71.30871582,  85.9883728 ,\n",
      "       101.85479736, 118.14520264, 134.01159668, 148.69128418,\n",
      "       161.64074707, 172.59289551, 181.53027344, 188.61315918,\n",
      "       194.09741211, 198.26745605, 201.39550781, 203.71704102,\n",
      "       205.42749023, 206.67993164, 207.59399414, 208.25805664,\n",
      "       208.74047852, 209.08984375, 209.34228516, 209.52539062,\n",
      "       209.65722656, 209.75244141, 209.82177734, 209.87109375,\n",
      "       209.90673828, 209.93310547])\n",
      "Coordinates:\n",
      "  * st_ocean  (st_ocean) float64 5.034 15.1 25.22 ... 5.185e+03 5.395e+03\n"
     ]
    }
   ],
   "source": [
    "%cd /archive/Richard.Slater/CM2.6/CM2.6_A_Control-1860_V03/history\n",
    "\n",
    "u = xr.open_dataset('02020101.ocean_minibling_field_u.nc')['u']\n",
    "v = xr.open_dataset('02020101.ocean_minibling_field_v.nc')['v']\n",
    "salt = xr.open_dataset('02020101.ocean_minibling_field_salt.nc')['salt']\n",
    "temp = xr.open_dataset('02020101.ocean_minibling_field_temp.nc')['temp']\n",
    "\n",
    "z = u.st_ocean\n",
    "z_edges  = xr.open_dataset('02020101.ocean_minibling_field_u.nc')['st_edges_ocean']\n",
    "thickness= z_edges.diff('st_edges_ocean').rename({'st_edges_ocean': 'st_ocean'}).assign_coords({\"st_ocean\":u.st_ocean})\n",
    "\n",
    "print(thickness)"
   ]
  },
  {
   "cell_type": "code",
   "execution_count": 4,
   "metadata": {},
   "outputs": [
    {
     "name": "stdout",
     "output_type": "stream",
     "text": [
      "CPU times: user 11.9 s, sys: 7.22 s, total: 19.1 s\n",
      "Wall time: 21.6 s\n"
     ]
    }
   ],
   "source": [
    "%%time \n",
    "density_np = rho(salt[-1,:,:,:],temp[-1,:,:,:],0)"
   ]
  },
  {
   "cell_type": "code",
   "execution_count": 5,
   "metadata": {},
   "outputs": [
    {
     "name": "stdout",
     "output_type": "stream",
     "text": [
      "<xarray.DataArray 'salt' (st_ocean: 50)>\n",
      "array([1024.45323503, 1024.47810929, 1024.5091779 , 1024.62303625,\n",
      "       1024.85239497, 1025.08206604, 1025.15529891, 1025.19495645,\n",
      "       1025.22121019, 1025.22868762, 1025.24995897, 1025.37412313,\n",
      "       1025.69071203, 1025.98446189, 1026.08933236, 1026.23423356,\n",
      "       1026.35170199, 1026.44745724, 1026.52809095, 1026.56945855,\n",
      "       1026.6329899 , 1026.68828531, 1026.77188566, 1026.85277959,\n",
      "       1026.94205887, 1027.03798534, 1027.13943469, 1027.2232844 ,\n",
      "       1027.2952603 , 1027.35710568, 1027.40934106, 1027.4571364 ,\n",
      "       1027.50108151, 1027.53652345, 1027.56679428, 1027.59223361,\n",
      "       1027.6107965 , 1027.62334305, 1027.63052167, 1027.63381154,\n",
      "       1027.63513798, 1027.63573053, 1027.6360304 , 1027.63615241,\n",
      "       1027.6361961 ,           nan,           nan,           nan,\n",
      "                 nan,           nan])\n",
      "Coordinates:\n",
      "    xt_ocean  float64 -79.95\n",
      "    yt_ocean  float64 -23.74\n",
      "  * st_ocean  (st_ocean) float64 5.034 15.1 25.22 ... 5.185e+03 5.395e+03\n",
      "    time      object 0202-12-29 12:00:00\n",
      "Attributes:\n",
      "    long_name:      Practical Salinity\n",
      "    units:          psu\n",
      "    valid_range:    [-10. 100.]\n",
      "    cell_methods:   time: mean\n",
      "    time_avg_info:  average_T1,average_T2,average_DT\n",
      "    coordinates:    geolon_t geolat_t\n",
      "    standard_name:  sea_water_salinity\n"
     ]
    }
   ],
   "source": [
    "print(density_np[:,1000,2000])\n",
    "density = xr.DataArray(density_np,dims   = ['st_ocean','yt_ocean','xt_ocean'],coords={'xt_ocean':temp.xt_ocean,'yt_ocean':temp.yt_ocean,'st_ocean':temp.st_ocean})"
   ]
  },
  {
   "cell_type": "code",
   "execution_count": 6,
   "metadata": {},
   "outputs": [],
   "source": [
    "# solves G''(z) + (N^2(z) - omega^2)G(z)/c^2 = 0 G is vertical structure of isopycnal displacement, units m.\n",
    "#dG/dz = F(z) (here called Gz), vertical structure of horizontal velocity and is unitless\n",
    "\n",
    "#   subject to G'(0) = gG(0)/c^2 (free surface) & G(-D) = 0 (flat bottom)\n",
    "# G(z) is normalized so that the vertical integral of (G'(z))^2 is D\n",
    "# G' is dimensionless, G has dimensions of length\n",
    "\n",
    "# - N is buoyancy frequency [s^-1] (nX1 vector)\n",
    "# - depth [m] (maximum depth is considered the sea floor) (nX1 vector)\n",
    "# - omega is frequency [s^-1] (scalar)\n",
    "# - mmax is the highest baroclinic mode calculated\n",
    "# - m=0 is the barotropic mode\n",
    "# - 0 < m <= mmax are the baroclinic modes\n",
    "# - Modes are calculated by expressing in finite difference form 1) the\n",
    "#  governing equation for interior depths (rows 2 through n-1) and 2) the\n",
    "#  boundary conditions at the surface (1st row) and the bottome (last row).\n",
    "# - Solution is found by solving the eigenvalue system A*x = lambda*B*x\n",
    "def vertical_modes(N2_0, Depth, omega, mmax):\n",
    "    z = -1 * Depth\n",
    "\n",
    "    if np.size(np.shape(N2_0)) > 1:\n",
    "        N2 = np.nanmean(N2_0, axis=1)\n",
    "    else:\n",
    "        N2 = N2_0\n",
    "\n",
    "    n = np.size(z)\n",
    "    nm1 = n - 1\n",
    "    nm2 = n - 2\n",
    "    gravity = 9.82\n",
    "    # ----- vertical increments\n",
    "    dz = np.concatenate([[0], z[1:] - z[0:nm1]])  # depth increment [m]\n",
    "    dzm = np.concatenate([[0], 0.5 * (z[2:] - z[0:nm2]), [0]])  # depth increment between midpoints [m]\n",
    "    # ----- sparse matrices\n",
    "    # A = row pos, B = col pos, C = val  \n",
    "    A = np.concatenate([[0], [0], np.arange(1, nm1), np.arange(1, nm1), np.arange(1, nm1), [n - 1]])\n",
    "    B = np.concatenate([[0], [1], np.arange(1, nm1), np.arange(0, nm2), np.arange(2, n), [n - 1]])\n",
    "    C = np.concatenate(\n",
    "        [[-1 / dz[1]], [1 / dz[1]], (1 / dz[2:] + 1 / dz[1:nm1]) / dzm[1:nm1], -1 / (dz[1:nm1] * dzm[1:nm1]),\n",
    "         -1 / (dz[2:n] * dzm[1:nm1]), [-1]])\n",
    "        # [[-1 / dz[1]], [1 / dz[1]], (1 / dz[2:] + 1 / dz[1:nm1]) / dzm[1:nm1], -1 / (dz[1:nm1] * dzm[1:nm1]),\n",
    "        #  -1 / (dz[2:n] * dzm[1:nm1]), [-1]])\n",
    "    mat1 = coo_matrix((C, (A, B)), shape=(n, n))\n",
    "\n",
    "    D = np.concatenate([[0], np.arange(1, n)])\n",
    "    E = np.concatenate([[0], np.arange(1, n)])\n",
    "    F = np.concatenate([[gravity], N2[1:] - omega * omega])  # originially says N2[1:,10]\n",
    "    mat2 = coo_matrix((F, (D, E)), shape=(n, n))\n",
    "\n",
    "    # compute eigenvalues and vectors \n",
    "    vals, vecs = eigs(mat1, k=mmax + 1, M=mat2, sigma=0)\n",
    "    eigenvalue = np.real(vals)\n",
    "    wmodes = np.real(vecs)\n",
    "    s_ind = np.argsort(eigenvalue)\n",
    "    eigenvalue = eigenvalue[s_ind]\n",
    "    wmodes = wmodes[:, s_ind]\n",
    "    m = np.size(eigenvalue)\n",
    "    c = 1 / np.sqrt(eigenvalue)  # kelvin wave speed\n",
    "    # normalize mode (shapes)\n",
    "    Gz = np.zeros(np.shape(wmodes))\n",
    "    G = np.zeros(np.shape(wmodes))\n",
    "    for i in range(m):\n",
    "        dw_dz = np.nan * np.ones(np.shape(z))\n",
    "        dw_dz[0] = (wmodes[1, i] - wmodes[0, i]) / (z[1] - z[0])\n",
    "        dw_dz[-1] = (wmodes[-1, i] - wmodes[-2, i]) / (z[-1] - z[-2])\n",
    "        for j in range(1, len(z) - 1):\n",
    "            dw_dz[j] = (wmodes[j + 1, i] - wmodes[j - 1, i]) / (z[j + 1] - z[j - 1])\n",
    "        # dw_dz = np.gradient(wmodes[:, i], z)\n",
    "        norm_constant = np.sqrt(np.trapz((dw_dz * dw_dz), (-1 * z)) / (-1 * z[-1]))\n",
    "        # norm_constant = np.abs(np.trapz(dw_dz * dw_dz, z) / Depth.max())\n",
    "\n",
    "        if dw_dz[0] < 0:\n",
    "            norm_constant = -1 * norm_constant\n",
    "        Gz[:, i] = dw_dz / norm_constant\n",
    "\n",
    "        norm_constant_G = np.sqrt(np.trapz((wmodes[:, i] * wmodes[:, i]), (-1 * z)) / (-1 * z[-1]))\n",
    "        G[:, i] = wmodes[:, i] / norm_constant\n",
    "\n",
    "    #epsilon = np.nan * np.zeros((5, 5, 5))  # barotropic and first 5 baroclinic\n",
    "    #for i in range(0, 5):  # i modes\n",
    "    #    for j in range(0, 5):  # j modes\n",
    "    #        for m in range(0, 5):  # k modes\n",
    "    #            epsilon[i, j, m] = np.trapz((Gz[:, i] * Gz[:, j] * Gz[:, m]), -1.0*z) / (-1.0*z[-1])\n",
    "\n",
    "    return G, Gz, c#, epsilon\n",
    "#G is the displacement modes and Gz is velocity modes (Gz = dG/dz = F)"
   ]
  },
  {
   "cell_type": "code",
   "execution_count": 7,
   "metadata": {},
   "outputs": [],
   "source": [
    "drhodz = density.differentiate('st_ocean')\n",
    "N2 = (9.8*drhodz/1025).coarsen(xt_ocean=5,yt_ocean=5, boundary=\"exact\").mean()\n",
    "\n",
    "mask = N2*0.0+1.\n",
    "thickness_full = mask*thickness\n",
    "positions = thickness_full.cumsum('st_ocean')*mask"
   ]
  },
  {
   "cell_type": "code",
   "execution_count": null,
   "metadata": {},
   "outputs": [],
   "source": []
  },
  {
   "cell_type": "code",
   "execution_count": 8,
   "metadata": {},
   "outputs": [
    {
     "data": {
      "text/plain": [
       "<matplotlib.collections.QuadMesh at 0x2b0b48e52250>"
      ]
     },
     "execution_count": 8,
     "metadata": {},
     "output_type": "execute_result"
    },
    {
     "data": {
      "image/png": "[encoded data removed]",
      "text/plain": [
       "<Figure size 432x288 with 2 Axes>"
      ]
     },
     "metadata": {
      "needs_background": "light"
     },
     "output_type": "display_data"
    }
   ],
   "source": [
    "Coriolis_coarse = np.abs(Coriolis.coarsen(xt_ocean=5,yt_ocean=5, boundary=\"exact\").mean())\n",
    "Coriolis_coarse.plot()"
   ]
  },
  {
   "cell_type": "code",
   "execution_count": 9,
   "metadata": {},
   "outputs": [
    {
     "data": {
      "text/plain": [
       "<matplotlib.collections.QuadMesh at 0x2b0b4975d6a0>"
      ]
     },
     "execution_count": 9,
     "metadata": {},
     "output_type": "execute_result"
    },
    {
     "data": {
      "image/png": "[encoded data removed]",
      "text/plain": [
       "<Figure size 432x288 with 2 Axes>"
      ]
     },
     "metadata": {
      "needs_background": "light"
     },
     "output_type": "display_data"
    }
   ],
   "source": [
    "N2[0,:,:].plot()"
   ]
  },
  {
   "cell_type": "code",
   "execution_count": null,
   "metadata": {},
   "outputs": [
    {
     "name": "stdout",
     "output_type": "stream",
     "text": [
      "0\n",
      "1\n",
      "2\n",
      "3\n",
      "4\n",
      "5\n",
      "6\n",
      "7\n",
      "8\n",
      "9\n",
      "10\n",
      "11\n",
      "12\n",
      "13\n",
      "14\n",
      "15\n",
      "16\n",
      "17\n",
      "18\n",
      "19\n",
      "20\n",
      "21\n",
      "22\n",
      "23\n",
      "24\n",
      "25\n",
      "26\n",
      "27\n",
      "28\n",
      "29\n",
      "30\n",
      "31\n",
      "32\n",
      "33\n",
      "34\n",
      "35\n",
      "36\n",
      "37\n",
      "38\n",
      "39\n",
      "40\n",
      "41\n",
      "42\n",
      "43\n",
      "44\n",
      "45\n",
      "46\n",
      "47\n",
      "48\n",
      "49\n",
      "50\n",
      "51\n",
      "52\n",
      "53\n",
      "54\n",
      "55\n",
      "56\n",
      "57\n",
      "58\n",
      "59\n",
      "60\n",
      "61\n",
      "62\n",
      "63\n",
      "64\n",
      "65\n",
      "66\n",
      "67\n",
      "68\n",
      "69\n",
      "70\n",
      "71\n",
      "72\n",
      "73\n",
      "74\n",
      "75\n",
      "76\n",
      "77\n",
      "78\n",
      "79\n",
      "80\n",
      "81\n",
      "82\n",
      "83\n",
      "84\n",
      "85\n",
      "86\n",
      "87\n",
      "88\n",
      "89\n",
      "90\n",
      "91\n",
      "92\n",
      "93\n",
      "94\n",
      "95\n",
      "96\n",
      "97\n",
      "98\n",
      "99\n",
      "100\n",
      "101\n",
      "102\n",
      "103\n",
      "104\n",
      "105\n",
      "106\n",
      "107\n",
      "108\n",
      "109\n",
      "110\n",
      "111\n",
      "112\n",
      "113\n",
      "114\n",
      "115\n",
      "116\n",
      "117\n",
      "118\n",
      "119\n",
      "120\n",
      "121\n",
      "122\n",
      "123\n",
      "124\n",
      "125\n",
      "126\n",
      "127\n",
      "128\n",
      "129\n",
      "130\n",
      "131\n",
      "132\n",
      "133\n",
      "134\n",
      "135\n",
      "136\n",
      "137\n",
      "138\n",
      "139\n",
      "140\n",
      "141\n",
      "142\n",
      "143\n",
      "144\n",
      "145\n",
      "146\n",
      "147\n",
      "148\n",
      "149\n",
      "150\n",
      "151\n",
      "152\n",
      "153\n",
      "154\n",
      "155\n",
      "156\n",
      "157\n",
      "158\n",
      "159\n",
      "160\n",
      "161\n",
      "162\n",
      "163\n",
      "164\n",
      "165\n",
      "166\n",
      "167\n",
      "168\n",
      "169\n",
      "170\n",
      "171\n",
      "172\n",
      "173\n",
      "174\n",
      "175\n",
      "176\n",
      "177\n",
      "178\n",
      "179\n",
      "180\n",
      "181\n",
      "182\n",
      "183\n",
      "184\n",
      "185\n",
      "186\n",
      "187\n",
      "188\n",
      "189\n",
      "190\n",
      "191\n",
      "192\n",
      "193\n",
      "194\n",
      "195\n",
      "196\n",
      "197\n",
      "198\n",
      "199\n",
      "200\n",
      "201\n",
      "202\n",
      "203\n",
      "204\n",
      "205\n",
      "206\n",
      "207\n",
      "208\n",
      "209\n",
      "210\n",
      "211\n",
      "212\n",
      "213\n",
      "214\n",
      "215\n",
      "216\n",
      "217\n",
      "218\n",
      "219\n",
      "220\n",
      "221\n",
      "222\n",
      "223\n",
      "224\n",
      "225\n",
      "226\n",
      "227\n",
      "228\n",
      "229\n",
      "230\n",
      "231\n",
      "232\n",
      "233\n",
      "234\n",
      "235\n",
      "236\n",
      "237\n",
      "238\n",
      "239\n",
      "240\n",
      "241\n",
      "242\n",
      "243\n",
      "244\n",
      "245\n",
      "246\n",
      "247\n",
      "248\n",
      "249\n",
      "250\n",
      "251\n",
      "252\n",
      "253\n",
      "254\n",
      "255\n",
      "256\n",
      "257\n",
      "258\n",
      "259\n",
      "260\n",
      "261\n",
      "262\n",
      "263\n",
      "264\n",
      "265\n",
      "266\n",
      "267\n",
      "268\n",
      "269\n",
      "270\n",
      "271\n",
      "272\n",
      "273\n",
      "274\n",
      "275\n",
      "276\n",
      "277\n",
      "278\n",
      "279\n",
      "280\n",
      "281\n",
      "282\n",
      "283\n",
      "284\n",
      "285\n",
      "286\n",
      "287\n",
      "288\n",
      "289\n",
      "290\n",
      "291\n",
      "292\n",
      "293\n",
      "294\n",
      "295\n",
      "296\n",
      "297\n",
      "298\n",
      "299\n",
      "300\n",
      "301\n",
      "302\n",
      "303\n",
      "304\n",
      "305\n",
      "306\n",
      "307\n",
      "308\n",
      "309\n",
      "310\n",
      "311\n",
      "312\n",
      "313\n",
      "314\n",
      "315\n",
      "316\n",
      "317\n",
      "318\n",
      "319\n",
      "320\n",
      "321\n",
      "322\n",
      "323\n",
      "324\n",
      "325\n",
      "326\n",
      "327\n",
      "328\n",
      "329\n",
      "330\n",
      "331\n",
      "332\n",
      "333\n",
      "334\n",
      "335\n",
      "336\n",
      "337\n",
      "338\n",
      "339\n",
      "340\n",
      "341\n",
      "342\n",
      "343\n",
      "344\n",
      "345\n",
      "346\n",
      "347\n",
      "348\n",
      "349\n",
      "350\n",
      "351\n",
      "352\n",
      "353\n",
      "354\n",
      "355\n",
      "356\n",
      "357\n",
      "358\n",
      "359\n",
      "360\n",
      "361\n",
      "362\n",
      "363\n",
      "364\n"
     ]
    }
   ],
   "source": [
    "%%time\n",
    "LD_QG = np.empty([540,720])\n",
    "for i in range(0,720):\n",
    "    for j in range(0,540):\n",
    "        N2_ij = np.array(N2[:,j,i])\n",
    "        N2_filtered= N2_ij[~np.isnan(N2_ij)]\n",
    "        #print(N2_filtered.shape)\n",
    "        \n",
    "        positions_ij = np.array(positions[:,j,i])\n",
    "        positions_filtered= positions_ij[~np.isnan(N2_ij)]\n",
    "        #print(positions_filtered.shape)\n",
    "        \n",
    "        if N2_filtered.size>=10:\n",
    "            if np.nanmin(N2_filtered>0):\n",
    "                nmodes= 7\n",
    "                [G, Gz, c]=vertical_modes(N2_filtered, positions_filtered, 0, nmodes) #nmodes is number of BC modes, doens't include BT mode\n",
    "                LD_QG[j,i] = c[1]/np.array(Coriolis_coarse[j,i])\n",
    "    print(i)\n"
   ]
  },
  {
   "cell_type": "code",
   "execution_count": null,
   "metadata": {},
   "outputs": [],
   "source": [
    "LD_QG_xr = xr.DataArray(LD_QG,dims   = ['yt_ocean','xt_ocean'],coords={'xt_ocean':Coriolis_coarse.xt_ocean,'yt_ocean':Coriolis_coarse.yt_ocean})\n"
   ]
  },
  {
   "cell_type": "code",
   "execution_count": null,
   "metadata": {},
   "outputs": [],
   "source": []
  },
  {
   "cell_type": "code",
   "execution_count": null,
   "metadata": {},
   "outputs": [],
   "source": []
  },
  {
   "cell_type": "code",
   "execution_count": null,
   "metadata": {},
   "outputs": [],
   "source": [
    "(LD_QG_xr/1000).plot(vmin=0,vmax=600)\n",
    "LD_QG=LD_QG_xr"
   ]
  },
  {
   "cell_type": "code",
   "execution_count": 170,
   "metadata": {},
   "outputs": [],
   "source": [
    "# %cd /work/eay/CM2.6\n",
    "# ds = xr.Dataset({'LD_QG': (LD_QG)})\n",
    "# print('done')\n",
    "# ds.to_netcdf('LD_QG_CM2.6.nc', 'w')\n",
    "# #%ls"
   ]
  },
  {
   "cell_type": "code",
   "execution_count": null,
   "metadata": {},
   "outputs": [],
   "source": [
    "plt.figure(figsize=(12, 5), dpi= 100, facecolor='w', edgecolor='k')\n",
    "\n",
    "#plt.plot(LD_QG_xr.yt_ocean,2*np.pi*LD_QG_xr.mean('xt_ocean')/1000,'-',c='r',linewidth=3)\n",
    "plt.plot(LD_QG['yt_ocean'],LD_QG.mean('xt_ocean')/1000,'-',c='k',linewidth=3)\n",
    "\n",
    "plt.grid()\n",
    "\n",
    "#plt.legend(['BT','BC'],loc='upper right',fontsize=11,handlelength=2)\n",
    "plt.plot([0, 0],[0, 1],'-',color=[0,0,0])\n",
    "plt.xlim(-80, 80); plt.xticks(fontsize=16);\n",
    "plt.ylim(0,600); plt.yticks(fontsize=16);\n",
    "plt.ylabel('$[km]$',fontsize=16)\n",
    "plt.ylabel('Latitude',fontsize=16)\n",
    "plt.title('Deformation Radius using flat bottom modes',fontsize=20)"
   ]
  },
  {
   "cell_type": "code",
   "execution_count": null,
   "metadata": {},
   "outputs": [],
   "source": []
  },
  {
   "cell_type": "code",
   "execution_count": 168,
   "metadata": {},
   "outputs": [
    {
     "name": "stdout",
     "output_type": "stream",
     "text": [
      "<xarray.Dataset>\n",
      "Dimensions:   (xt_ocean: 720, yt_ocean: 540)\n",
      "Coordinates:\n",
      "  * xt_ocean  (xt_ocean) float64 -279.7 -279.2 -278.7 ... 78.75 79.25 79.75\n",
      "  * yt_ocean  (yt_ocean) float64 -81.02 -80.81 -80.6 ... 89.47 89.68 89.89\n",
      "Data variables:\n",
      "    LD_QG     (yt_ocean, xt_ocean) float64 ...\n"
     ]
    }
   ],
   "source": [
    "test = xr.open_dataset('LD_QG_CM2.6.nc')\n",
    "print(test)"
   ]
  },
  {
   "cell_type": "code",
   "execution_count": 169,
   "metadata": {},
   "outputs": [
    {
     "data": {
      "text/plain": [
       "Text(0.5, 1.0, 'Deformation Radius using flat bottom modes')"
      ]
     },
     "execution_count": 169,
     "metadata": {},
     "output_type": "execute_result"
    },
    {
     "data": {
      "image/png": "[encoded data removed]",
      "text/plain": [
       "<Figure size 1200x500 with 1 Axes>"
      ]
     },
     "metadata": {},
     "output_type": "display_data"
    }
   ],
   "source": [
    "plt.figure(figsize=(12, 5), dpi= 100, facecolor='w', edgecolor='k')\n",
    "\n",
    "plt.plot(test['yt_ocean'],test['LD_QG'].mean('xt_ocean')/1000,'-',c='k',linewidth=3)\n",
    "\n",
    "plt.grid()\n",
    "\n",
    "#plt.legend(['BT','BC'],loc='upper right',fontsize=11,handlelength=2)\n",
    "plt.plot([0, 0],[0, 1],'-',color=[0,0,0])\n",
    "plt.xlim(-80, 80); plt.xticks(fontsize=16);\n",
    "plt.ylim(0,600); plt.yticks(fontsize=16);\n",
    "plt.ylabel('$[km]$',fontsize=16)\n",
    "plt.ylabel('Latitude',fontsize=16)\n",
    "plt.title('Deformation Radius using flat bottom modes',fontsize=20)"
   ]
  },
  {
   "cell_type": "code",
   "execution_count": null,
   "metadata": {},
   "outputs": [],
   "source": []
  },
  {
   "cell_type": "code",
   "execution_count": null,
   "metadata": {},
   "outputs": [],
   "source": []
  },
  {
   "cell_type": "markdown",
   "metadata": {},
   "source": [
    "\n"
   ]
  },
  {
   "cell_type": "code",
   "execution_count": null,
   "metadata": {},
   "outputs": [],
   "source": []
  },
  {
   "cell_type": "code",
   "execution_count": null,
   "metadata": {},
   "outputs": [],
   "source": []
  },
  {
   "cell_type": "code",
   "execution_count": null,
   "metadata": {},
   "outputs": [],
   "source": []
  }
 ],
 "metadata": {
  "kernelspec": {
   "display_name": "Python 3",
   "language": "python",
   "name": "python3"
  },
  "language_info": {
   "codemirror_mode": {
    "name": "ipython",
    "version": 3
   },
   "file_extension": ".py",
   "mimetype": "text/x-python",
   "name": "python",
   "nbconvert_exporter": "python",
   "pygments_lexer": "ipython3",
   "version": "3.9.12"
  }
 },
 "nbformat": 4,
 "nbformat_minor": 2
}
